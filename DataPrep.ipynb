{
 "cells": [
  {
   "cell_type": "code",
   "execution_count": 1,
   "id": "b5eab365",
   "metadata": {},
   "outputs": [],
   "source": [
    "import pandas as pd \n",
    "from sklearn.model_selection import train_test_split\n",
    "from sklearn.model_selection import StratifiedShuffleSplit\n",
    "from sklearn.impute import SimpleImputer\n",
    "import numpy as np\n",
    "from statistics import mode"
   ]
  },
  {
   "cell_type": "markdown",
   "id": "31053c2f",
   "metadata": {},
   "source": [
    "### Metadados"
   ]
  },
  {
   "cell_type": "code",
   "execution_count": 2,
   "id": "c6f3db5b",
   "metadata": {},
   "outputs": [
    {
     "data": {
      "text/plain": [
       "(1274, 6)"
      ]
     },
     "execution_count": 2,
     "metadata": {},
     "output_type": "execute_result"
    }
   ],
   "source": [
    "metadados = pd.read_csv(\"metadados.csv\")\n",
    "metadados.drop('Unnamed: 0', axis=1, inplace=True)\n",
    "metadados.shape"
   ]
  },
  {
   "cell_type": "code",
   "execution_count": 3,
   "id": "fb9d2ac0",
   "metadata": {},
   "outputs": [
    {
     "data": {
      "text/html": [
       "<div>\n",
       "<style scoped>\n",
       "    .dataframe tbody tr th:only-of-type {\n",
       "        vertical-align: middle;\n",
       "    }\n",
       "\n",
       "    .dataframe tbody tr th {\n",
       "        vertical-align: top;\n",
       "    }\n",
       "\n",
       "    .dataframe thead th {\n",
       "        text-align: right;\n",
       "    }\n",
       "</style>\n",
       "<table border=\"1\" class=\"dataframe\">\n",
       "  <thead>\n",
       "    <tr style=\"text-align: right;\">\n",
       "      <th></th>\n",
       "      <th>Features</th>\n",
       "      <th>Role</th>\n",
       "      <th>Level</th>\n",
       "      <th>Keep</th>\n",
       "      <th>Tipo</th>\n",
       "      <th>Cardinality</th>\n",
       "    </tr>\n",
       "  </thead>\n",
       "  <tbody>\n",
       "    <tr>\n",
       "      <th>0</th>\n",
       "      <td>SK_ID_CURR</td>\n",
       "      <td>id</td>\n",
       "      <td>nominal</td>\n",
       "      <td>False</td>\n",
       "      <td>int32</td>\n",
       "      <td>307511</td>\n",
       "    </tr>\n",
       "    <tr>\n",
       "      <th>1</th>\n",
       "      <td>TARGET</td>\n",
       "      <td>target</td>\n",
       "      <td>binary</td>\n",
       "      <td>True</td>\n",
       "      <td>int32</td>\n",
       "      <td>2</td>\n",
       "    </tr>\n",
       "    <tr>\n",
       "      <th>2</th>\n",
       "      <td>NAME_CONTRACT_TYPE</td>\n",
       "      <td>input</td>\n",
       "      <td>nominal</td>\n",
       "      <td>True</td>\n",
       "      <td>object</td>\n",
       "      <td>2</td>\n",
       "    </tr>\n",
       "    <tr>\n",
       "      <th>3</th>\n",
       "      <td>CODE_GENDER</td>\n",
       "      <td>input</td>\n",
       "      <td>nominal</td>\n",
       "      <td>True</td>\n",
       "      <td>object</td>\n",
       "      <td>3</td>\n",
       "    </tr>\n",
       "    <tr>\n",
       "      <th>4</th>\n",
       "      <td>FLAG_OWN_CAR</td>\n",
       "      <td>input</td>\n",
       "      <td>nominal</td>\n",
       "      <td>True</td>\n",
       "      <td>object</td>\n",
       "      <td>2</td>\n",
       "    </tr>\n",
       "  </tbody>\n",
       "</table>\n",
       "</div>"
      ],
      "text/plain": [
       "             Features    Role    Level   Keep    Tipo  Cardinality\n",
       "0          SK_ID_CURR      id  nominal  False   int32       307511\n",
       "1              TARGET  target   binary   True   int32            2\n",
       "2  NAME_CONTRACT_TYPE   input  nominal   True  object            2\n",
       "3         CODE_GENDER   input  nominal   True  object            3\n",
       "4        FLAG_OWN_CAR   input  nominal   True  object            2"
      ]
     },
     "execution_count": 3,
     "metadata": {},
     "output_type": "execute_result"
    }
   ],
   "source": [
    "metadados.head()"
   ]
  },
  {
   "cell_type": "markdown",
   "id": "5b1629d6",
   "metadata": {},
   "source": [
    "### Tabela de Modelagem"
   ]
  },
  {
   "cell_type": "code",
   "execution_count": 4,
   "id": "366361ff",
   "metadata": {},
   "outputs": [
    {
     "ename": "ArrowMemoryError",
     "evalue": "malloc of size 2993927104 failed",
     "output_type": "error",
     "traceback": [
      "\u001b[1;31m---------------------------------------------------------------------------\u001b[0m",
      "\u001b[1;31mArrowMemoryError\u001b[0m                          Traceback (most recent call last)",
      "Input \u001b[1;32mIn [4]\u001b[0m, in \u001b[0;36m<cell line: 1>\u001b[1;34m()\u001b[0m\n\u001b[1;32m----> 1\u001b[0m abt \u001b[38;5;241m=\u001b[39m \u001b[43mpd\u001b[49m\u001b[38;5;241;43m.\u001b[39;49m\u001b[43mread_parquet\u001b[49m\u001b[43m(\u001b[49m\u001b[38;5;124;43m'\u001b[39;49m\u001b[38;5;124;43mVARS_BUREAU-20230112T005646Z-001/VARS_BUREAU\u001b[39;49m\u001b[38;5;124;43m'\u001b[39;49m\u001b[43m)\u001b[49m\n\u001b[0;32m      2\u001b[0m abt\u001b[38;5;241m.\u001b[39mshape\n",
      "File \u001b[1;32mC:\\ProgramData\\Anaconda3\\lib\\site-packages\\pandas\\io\\parquet.py:493\u001b[0m, in \u001b[0;36mread_parquet\u001b[1;34m(path, engine, columns, storage_options, use_nullable_dtypes, **kwargs)\u001b[0m\n\u001b[0;32m    446\u001b[0m \u001b[38;5;124;03m\"\"\"\u001b[39;00m\n\u001b[0;32m    447\u001b[0m \u001b[38;5;124;03mLoad a parquet object from the file path, returning a DataFrame.\u001b[39;00m\n\u001b[0;32m    448\u001b[0m \n\u001b[1;32m   (...)\u001b[0m\n\u001b[0;32m    489\u001b[0m \u001b[38;5;124;03mDataFrame\u001b[39;00m\n\u001b[0;32m    490\u001b[0m \u001b[38;5;124;03m\"\"\"\u001b[39;00m\n\u001b[0;32m    491\u001b[0m impl \u001b[38;5;241m=\u001b[39m get_engine(engine)\n\u001b[1;32m--> 493\u001b[0m \u001b[38;5;28;01mreturn\u001b[39;00m impl\u001b[38;5;241m.\u001b[39mread(\n\u001b[0;32m    494\u001b[0m     path,\n\u001b[0;32m    495\u001b[0m     columns\u001b[38;5;241m=\u001b[39mcolumns,\n\u001b[0;32m    496\u001b[0m     storage_options\u001b[38;5;241m=\u001b[39mstorage_options,\n\u001b[0;32m    497\u001b[0m     use_nullable_dtypes\u001b[38;5;241m=\u001b[39muse_nullable_dtypes,\n\u001b[0;32m    498\u001b[0m     \u001b[38;5;241m*\u001b[39m\u001b[38;5;241m*\u001b[39mkwargs,\n\u001b[0;32m    499\u001b[0m )\n",
      "File \u001b[1;32mC:\\ProgramData\\Anaconda3\\lib\\site-packages\\pandas\\io\\parquet.py:240\u001b[0m, in \u001b[0;36mPyArrowImpl.read\u001b[1;34m(self, path, columns, use_nullable_dtypes, storage_options, **kwargs)\u001b[0m\n\u001b[0;32m    233\u001b[0m path_or_handle, handles, kwargs[\u001b[38;5;124m\"\u001b[39m\u001b[38;5;124mfilesystem\u001b[39m\u001b[38;5;124m\"\u001b[39m] \u001b[38;5;241m=\u001b[39m _get_path_or_handle(\n\u001b[0;32m    234\u001b[0m     path,\n\u001b[0;32m    235\u001b[0m     kwargs\u001b[38;5;241m.\u001b[39mpop(\u001b[38;5;124m\"\u001b[39m\u001b[38;5;124mfilesystem\u001b[39m\u001b[38;5;124m\"\u001b[39m, \u001b[38;5;28;01mNone\u001b[39;00m),\n\u001b[0;32m    236\u001b[0m     storage_options\u001b[38;5;241m=\u001b[39mstorage_options,\n\u001b[0;32m    237\u001b[0m     mode\u001b[38;5;241m=\u001b[39m\u001b[38;5;124m\"\u001b[39m\u001b[38;5;124mrb\u001b[39m\u001b[38;5;124m\"\u001b[39m,\n\u001b[0;32m    238\u001b[0m )\n\u001b[0;32m    239\u001b[0m \u001b[38;5;28;01mtry\u001b[39;00m:\n\u001b[1;32m--> 240\u001b[0m     result \u001b[38;5;241m=\u001b[39m \u001b[38;5;28mself\u001b[39m\u001b[38;5;241m.\u001b[39mapi\u001b[38;5;241m.\u001b[39mparquet\u001b[38;5;241m.\u001b[39mread_table(\n\u001b[0;32m    241\u001b[0m         path_or_handle, columns\u001b[38;5;241m=\u001b[39mcolumns, \u001b[38;5;241m*\u001b[39m\u001b[38;5;241m*\u001b[39mkwargs\n\u001b[0;32m    242\u001b[0m     )\u001b[38;5;241m.\u001b[39mto_pandas(\u001b[38;5;241m*\u001b[39m\u001b[38;5;241m*\u001b[39mto_pandas_kwargs)\n\u001b[0;32m    243\u001b[0m     \u001b[38;5;28;01mif\u001b[39;00m manager \u001b[38;5;241m==\u001b[39m \u001b[38;5;124m\"\u001b[39m\u001b[38;5;124marray\u001b[39m\u001b[38;5;124m\"\u001b[39m:\n\u001b[0;32m    244\u001b[0m         result \u001b[38;5;241m=\u001b[39m result\u001b[38;5;241m.\u001b[39m_as_manager(\u001b[38;5;124m\"\u001b[39m\u001b[38;5;124marray\u001b[39m\u001b[38;5;124m\"\u001b[39m, copy\u001b[38;5;241m=\u001b[39m\u001b[38;5;28;01mFalse\u001b[39;00m)\n",
      "File \u001b[1;32m~\\AppData\\Roaming\\Python\\Python39\\site-packages\\pyarrow\\array.pxi:830\u001b[0m, in \u001b[0;36mpyarrow.lib._PandasConvertible.to_pandas\u001b[1;34m()\u001b[0m\n",
      "File \u001b[1;32m~\\AppData\\Roaming\\Python\\Python39\\site-packages\\pyarrow\\table.pxi:3908\u001b[0m, in \u001b[0;36mpyarrow.lib.Table._to_pandas\u001b[1;34m()\u001b[0m\n",
      "File \u001b[1;32m~\\AppData\\Roaming\\Python\\Python39\\site-packages\\pyarrow\\pandas_compat.py:820\u001b[0m, in \u001b[0;36mtable_to_blockmanager\u001b[1;34m(options, table, categories, ignore_metadata, types_mapper)\u001b[0m\n\u001b[0;32m    818\u001b[0m _check_data_column_metadata_consistency(all_columns)\n\u001b[0;32m    819\u001b[0m columns \u001b[38;5;241m=\u001b[39m _deserialize_column_index(table, all_columns, column_indexes)\n\u001b[1;32m--> 820\u001b[0m blocks \u001b[38;5;241m=\u001b[39m \u001b[43m_table_to_blocks\u001b[49m\u001b[43m(\u001b[49m\u001b[43moptions\u001b[49m\u001b[43m,\u001b[49m\u001b[43m \u001b[49m\u001b[43mtable\u001b[49m\u001b[43m,\u001b[49m\u001b[43m \u001b[49m\u001b[43mcategories\u001b[49m\u001b[43m,\u001b[49m\u001b[43m \u001b[49m\u001b[43mext_columns_dtypes\u001b[49m\u001b[43m)\u001b[49m\n\u001b[0;32m    822\u001b[0m axes \u001b[38;5;241m=\u001b[39m [columns, index]\n\u001b[0;32m    823\u001b[0m \u001b[38;5;28;01mreturn\u001b[39;00m BlockManager(blocks, axes)\n",
      "File \u001b[1;32m~\\AppData\\Roaming\\Python\\Python39\\site-packages\\pyarrow\\pandas_compat.py:1170\u001b[0m, in \u001b[0;36m_table_to_blocks\u001b[1;34m(options, block_table, categories, extension_columns)\u001b[0m\n\u001b[0;32m   1165\u001b[0m \u001b[38;5;28;01mdef\u001b[39;00m \u001b[38;5;21m_table_to_blocks\u001b[39m(options, block_table, categories, extension_columns):\n\u001b[0;32m   1166\u001b[0m     \u001b[38;5;66;03m# Part of table_to_blockmanager\u001b[39;00m\n\u001b[0;32m   1167\u001b[0m \n\u001b[0;32m   1168\u001b[0m     \u001b[38;5;66;03m# Convert an arrow table to Block from the internal pandas API\u001b[39;00m\n\u001b[0;32m   1169\u001b[0m     columns \u001b[38;5;241m=\u001b[39m block_table\u001b[38;5;241m.\u001b[39mcolumn_names\n\u001b[1;32m-> 1170\u001b[0m     result \u001b[38;5;241m=\u001b[39m \u001b[43mpa\u001b[49m\u001b[38;5;241;43m.\u001b[39;49m\u001b[43mlib\u001b[49m\u001b[38;5;241;43m.\u001b[39;49m\u001b[43mtable_to_blocks\u001b[49m\u001b[43m(\u001b[49m\u001b[43moptions\u001b[49m\u001b[43m,\u001b[49m\u001b[43m \u001b[49m\u001b[43mblock_table\u001b[49m\u001b[43m,\u001b[49m\u001b[43m \u001b[49m\u001b[43mcategories\u001b[49m\u001b[43m,\u001b[49m\n\u001b[0;32m   1171\u001b[0m \u001b[43m                                    \u001b[49m\u001b[38;5;28;43mlist\u001b[39;49m\u001b[43m(\u001b[49m\u001b[43mextension_columns\u001b[49m\u001b[38;5;241;43m.\u001b[39;49m\u001b[43mkeys\u001b[49m\u001b[43m(\u001b[49m\u001b[43m)\u001b[49m\u001b[43m)\u001b[49m\u001b[43m)\u001b[49m\n\u001b[0;32m   1172\u001b[0m     \u001b[38;5;28;01mreturn\u001b[39;00m [_reconstruct_block(item, columns, extension_columns)\n\u001b[0;32m   1173\u001b[0m             \u001b[38;5;28;01mfor\u001b[39;00m item \u001b[38;5;129;01min\u001b[39;00m result]\n",
      "File \u001b[1;32m~\\AppData\\Roaming\\Python\\Python39\\site-packages\\pyarrow\\table.pxi:2594\u001b[0m, in \u001b[0;36mpyarrow.lib.table_to_blocks\u001b[1;34m()\u001b[0m\n",
      "File \u001b[1;32m~\\AppData\\Roaming\\Python\\Python39\\site-packages\\pyarrow\\error.pxi:117\u001b[0m, in \u001b[0;36mpyarrow.lib.check_status\u001b[1;34m()\u001b[0m\n",
      "\u001b[1;31mArrowMemoryError\u001b[0m: malloc of size 2993927104 failed"
     ]
    }
   ],
   "source": [
    "abt = pd.read_parquet('VARS_BUREAU-20230112T005646Z-001/VARS_BUREAU')\n",
    "abt.shape"
   ]
  },
  {
   "cell_type": "markdown",
   "id": "d8e33a01",
   "metadata": {},
   "source": [
    "### Amostra"
   ]
  },
  {
   "cell_type": "code",
   "execution_count": null,
   "id": "731db9bf",
   "metadata": {},
   "outputs": [],
   "source": [
    "#split = StratifiedShuffleSplit(test_size=0.5)\n",
    "#for x, y in split.split(abt, abt['TARGET']):\n",
    "#    amostra1 = abt.iloc[x]\n",
    "#    amostra2 = abt.iloc[y]\n",
    "    \n",
    "#amostra1.shape, amostra2.shape\n",
    "    \n",
    "    "
   ]
  },
  {
   "cell_type": "code",
   "execution_count": null,
   "id": "05a98cb0",
   "metadata": {},
   "outputs": [],
   "source": [
    "#print(abt['TARGET'].value_counts()/len(abt['TARGET']))"
   ]
  },
  {
   "cell_type": "code",
   "execution_count": null,
   "id": "8fd94563",
   "metadata": {},
   "outputs": [],
   "source": [
    "#print(amostra1['TARGET'].value_counts()/len(amostra1['TARGET']))"
   ]
  },
  {
   "cell_type": "markdown",
   "id": "a10fddb6",
   "metadata": {},
   "source": [
    "### Separar base pra teste (20%)"
   ]
  },
  {
   "cell_type": "code",
   "execution_count": null,
   "id": "c2fa68dd",
   "metadata": {},
   "outputs": [],
   "source": [
    "split = StratifiedShuffleSplit(test_size=0.2)\n",
    "for x, y in split.split(abt, abt['TARGET']):\n",
    "    df00 = abt.iloc[x]\n",
    "    df00_unseen = abt.iloc[y]\n",
    "    \n",
    "print('Dados pra treinamento:' + str(df00.shape))\n",
    "print('Dados pra teste:' + str(df00_unseen.shape))"
   ]
  },
  {
   "cell_type": "code",
   "execution_count": null,
   "id": "320fd095",
   "metadata": {},
   "outputs": [],
   "source": [
    "print(df00['TARGET'].value_counts()/len(df00['TARGET']))"
   ]
  },
  {
   "cell_type": "code",
   "execution_count": null,
   "id": "542cce82",
   "metadata": {},
   "outputs": [],
   "source": [
    "df00"
   ]
  },
  {
   "cell_type": "code",
   "execution_count": null,
   "id": "f9f794c5",
   "metadata": {},
   "outputs": [],
   "source": [
    "# Filtrando Data Frame \n",
    "vars_numericas_df = metadados[((metadados.Level  == 'ordinal')|(metadados.Level == 'interval')) & (metadados.Role == 'input')]\n",
    "# Selecionando nomes das variáveis a partir do data frame filtrado\n",
    "vars_numericas_df"
   ]
  },
  {
   "cell_type": "code",
   "execution_count": null,
   "id": "07073eaa",
   "metadata": {},
   "outputs": [],
   "source": [
    "# Selecionando nomes das variáveis a partir do data frame filtrado\n",
    "lista_vars_numericas = list(vars_numericas_df['Features'])\n",
    "lista_vars_numericas"
   ]
  },
  {
   "cell_type": "code",
   "execution_count": null,
   "id": "23ce8cc3",
   "metadata": {},
   "outputs": [],
   "source": [
    "# Vamos montar um data frame com as variáveis que foram filtradas (Note que a tabela ja tem indice)\n",
    "df01 = df00[lista_vars_numericas]\n",
    "df01_t = df00_unseen[lista_vars_numericas]\n",
    "\n",
    "df01.head()"
   ]
  },
  {
   "cell_type": "markdown",
   "id": "fbb1ec31",
   "metadata": {},
   "source": [
    "#### Tratamento dos valores nulos"
   ]
  },
  {
   "cell_type": "code",
   "execution_count": null,
   "id": "5958d4aa",
   "metadata": {},
   "outputs": [],
   "source": [
    "# Primeiro vamos verificar a quantidade de missings em todas variáveis\n",
    "df01_missing = df01.isnull().sum()\n",
    "df01_missing_t = df01_t.isnull().sum()\n",
    "df01_missing"
   ]
  },
  {
   "cell_type": "code",
   "execution_count": null,
   "id": "ca49b141",
   "metadata": {},
   "outputs": [],
   "source": [
    "# Salvando quantidade de linhas da tabela em variável\n",
    "qt_rows = df00.shape[0]\n",
    "\n",
    "# Gerando data frame com quantidade de missings por variavel\n",
    "df_pct_missing = pd.DataFrame(df01_missing,columns=['qt_missing'])\n",
    "df_pct_missing['Features'] = df_pct_missing.index\n",
    "df_pct_missing['pc_miss'] = (100*df_pct_missing['qt_missing'].divide(qt_rows)).astype(int)\n",
    "df_pct_missing['qt_rows'] = qt_rows\n",
    "df_pct_missing.reset_index(drop = True, inplace = True)\n",
    "\n",
    "df_pct_missing"
   ]
  },
  {
   "cell_type": "code",
   "execution_count": null,
   "id": "b3192488",
   "metadata": {},
   "outputs": [],
   "source": [
    "# Aplicar o tratamento dos missings substituindo por média \n",
    "\n",
    "imp = SimpleImputer(missing_values=np.nan, strategy='median')\n",
    "\n",
    "df02 = imp.fit_transform(df01[lista_vars_numericas])\n",
    "\n",
    "df02_t = imp.fit_transform(df01_t[lista_vars_numericas])\n",
    "\n",
    "df02 = pd.DataFrame(df02, columns= [lista_vars_numericas])\n",
    "\n",
    "df02_t = pd.DataFrame(df02_t, columns= [lista_vars_numericas])\n",
    "\n"
   ]
  },
  {
   "cell_type": "code",
   "execution_count": null,
   "id": "7d3b6488",
   "metadata": {},
   "outputs": [],
   "source": [
    "df01_t[lista_vars_numericas]"
   ]
  },
  {
   "cell_type": "code",
   "execution_count": null,
   "id": "fd6a434e",
   "metadata": {},
   "outputs": [],
   "source": [
    "print('Verificando se ainda tem missings após tratamento:')\n",
    "df02.isnull().sum()"
   ]
  },
  {
   "cell_type": "code",
   "execution_count": null,
   "id": "6660e144",
   "metadata": {},
   "outputs": [],
   "source": [
    "df02"
   ]
  },
  {
   "cell_type": "markdown",
   "id": "398d9f6c",
   "metadata": {},
   "source": [
    "### Normalização"
   ]
  },
  {
   "cell_type": "markdown",
   "id": "bcef7ccc",
   "metadata": {},
   "source": [
    "#### Normalização por distribuição"
   ]
  },
  {
   "cell_type": "code",
   "execution_count": null,
   "id": "1c2da6fb",
   "metadata": {},
   "outputs": [],
   "source": [
    "from sklearn.preprocessing import StandardScaler\n",
    "\n",
    "# Classe responável pela normalização\n",
    "scaler = StandardScaler()\n",
    "\n",
    "# Convertendo todas variáveis para tipo float (necessário para normalização)\n",
    "df03 = df02.astype(float)\n",
    "df03_t = df02_t.astype(float)\n",
    "\n",
    "scaled_features = scaler.fit_transform(df03[lista_vars_numericas])\n",
    "df04 = pd.DataFrame(scaled_features, columns=lista_vars_numericas)\n",
    "\n",
    "scaled_features_t = scaler.transform(df03_t[lista_vars_numericas])\n",
    "df04_t = pd.DataFrame(scaled_features_t, columns=lista_vars_numericas)\n",
    "\n",
    "df04.head(10)"
   ]
  },
  {
   "cell_type": "markdown",
   "id": "63e3c080",
   "metadata": {},
   "source": [
    "#### Normalização por amplitude"
   ]
  },
  {
   "cell_type": "code",
   "execution_count": null,
   "id": "f1d3d1df",
   "metadata": {},
   "outputs": [],
   "source": [
    "#from sklearn.preprocessing import MinMaxScaler\n",
    "\n",
    "# Classe responável pela normalização\n",
    "#scaler_amplitude = MinMaxScaler(feature_range=(0, 1))\n",
    "\n",
    "#scaled_features = scaler_amplitude.fit_transform(df03[lista_vars_numericas])\n",
    "#df05 = pd.DataFrame(scaled_features, columns=lista_vars_numericas)\n",
    "\n",
    "#df05.head(10)"
   ]
  },
  {
   "cell_type": "markdown",
   "id": "e90c55e2",
   "metadata": {},
   "source": [
    "### Variáveis categóricas"
   ]
  },
  {
   "cell_type": "code",
   "execution_count": null,
   "id": "fda2d7f6",
   "metadata": {},
   "outputs": [],
   "source": [
    "# Filtrando Data Frame \n",
    "vars_char_df = metadados[(metadados.Level  == 'nominal') & (metadados.Role == 'input')]\n",
    "# Selecionando nomes das variáveis a partir do data frame filtrado\n",
    "vars_char_df"
   ]
  },
  {
   "cell_type": "code",
   "execution_count": null,
   "id": "2f3d4443",
   "metadata": {},
   "outputs": [],
   "source": [
    "# Selecionando nomes das variáveis a partir do data frame filtrado\n",
    "lista_vars_char = list(vars_char_df['Features'])\n",
    "lista_vars_char"
   ]
  },
  {
   "cell_type": "markdown",
   "id": "c9bf9356",
   "metadata": {},
   "source": [
    "#### Criar tabela contendo somente variáveis nominais"
   ]
  },
  {
   "cell_type": "code",
   "execution_count": null,
   "id": "e2d2fa89",
   "metadata": {},
   "outputs": [],
   "source": [
    "df06 = df00[lista_vars_char].sort_index()\n",
    "df06_t = df00_unseen[lista_vars_char].sort_index()\n",
    "df06"
   ]
  },
  {
   "cell_type": "markdown",
   "id": "c8c0b3a0",
   "metadata": {},
   "source": [
    "#### Varificando valores nulos nas categóricas"
   ]
  },
  {
   "cell_type": "code",
   "execution_count": null,
   "id": "cfb8d655",
   "metadata": {},
   "outputs": [],
   "source": [
    "df06_missing = df06.isnull().sum()\n",
    "df06_missing"
   ]
  },
  {
   "cell_type": "code",
   "execution_count": null,
   "id": "57b472b2",
   "metadata": {},
   "outputs": [],
   "source": [
    "# Salvando quantidade de linhas da tabela em variável\n",
    "qt_rows = df00.shape[0]\n",
    "\n",
    "# Gerando data frame com quantidade de missings por variavel\n",
    "df_pct_missing_cat = pd.DataFrame(df06_missing,columns=['qt_missing'])\n",
    "df_pct_missing_cat['Features'] = df_pct_missing_cat.index\n",
    "df_pct_missing_cat['pc_miss'] = (100*df_pct_missing_cat['qt_missing'].divide(qt_rows)).astype(int)\n",
    "df_pct_missing_cat['qt_rows'] = qt_rows\n",
    "df_pct_missing_cat.reset_index(drop = True, inplace = True)\n",
    "\n",
    "df_pct_missing_cat"
   ]
  },
  {
   "cell_type": "code",
   "execution_count": null,
   "id": "0d47390e",
   "metadata": {},
   "outputs": [],
   "source": [
    "df07 = df06.copy()\n",
    "df07_t = df06_t.copy()\n",
    "df07"
   ]
  },
  {
   "cell_type": "code",
   "execution_count": null,
   "id": "4791e627",
   "metadata": {},
   "outputs": [],
   "source": [
    "df07['NAME_TYPE_SUITE'] = df07['NAME_TYPE_SUITE'].fillna(mode(df07['NAME_TYPE_SUITE'].dropna()))\n",
    "df07['OCCUPATION_TYPE'] = df07['OCCUPATION_TYPE'].fillna(mode(df07['OCCUPATION_TYPE'].dropna()))\n",
    "df07['FONDKAPREMONT_MODE'] = df07['FONDKAPREMONT_MODE'].fillna(mode(df07['FONDKAPREMONT_MODE'].dropna()))\n",
    "df07['HOUSETYPE_MODE'] = df07['HOUSETYPE_MODE'].fillna(mode(df07['HOUSETYPE_MODE'].dropna()))\n",
    "df07['WALLSMATERIAL_MODE'] = df07['WALLSMATERIAL_MODE'].fillna(mode(df07['WALLSMATERIAL_MODE'].dropna()))\n",
    "df07['EMERGENCYSTATE_MODE'] = df07['EMERGENCYSTATE_MODE'].fillna(mode(df07['EMERGENCYSTATE_MODE'].dropna()))\n",
    "\n",
    "df07"
   ]
  },
  {
   "cell_type": "code",
   "execution_count": null,
   "id": "ee785fce",
   "metadata": {},
   "outputs": [],
   "source": [
    "#teste\n",
    "\n",
    "df07_t['NAME_TYPE_SUITE'] = df07_t['NAME_TYPE_SUITE'].fillna(mode(df07_t['NAME_TYPE_SUITE'].dropna()))\n",
    "df07_t['OCCUPATION_TYPE'] = df07_t['OCCUPATION_TYPE'].fillna(mode(df07_t['OCCUPATION_TYPE'].dropna()))\n",
    "df07_t['FONDKAPREMONT_MODE'] = df07_t['FONDKAPREMONT_MODE'].fillna(mode(df07_t['FONDKAPREMONT_MODE'].dropna()))\n",
    "df07_t['HOUSETYPE_MODE'] = df07_t['HOUSETYPE_MODE'].fillna(mode(df07_t['HOUSETYPE_MODE'].dropna()))\n",
    "df07_t['WALLSMATERIAL_MODE'] = df07_t['WALLSMATERIAL_MODE'].fillna(mode(df07_t['WALLSMATERIAL_MODE'].dropna()))\n",
    "df07_t['EMERGENCYSTATE_MODE'] = df07_t['EMERGENCYSTATE_MODE'].fillna(mode(df07_t['EMERGENCYSTATE_MODE'].dropna()))\n",
    "\n",
    "df07_t"
   ]
  },
  {
   "cell_type": "code",
   "execution_count": null,
   "id": "c47b5e1e",
   "metadata": {},
   "outputs": [],
   "source": [
    "#Verificando se ainda há valores nulos\n",
    "\n",
    "df07_missing = df07_t.isnull().sum()\n",
    "df07_missing"
   ]
  },
  {
   "cell_type": "markdown",
   "id": "249b963b",
   "metadata": {},
   "source": [
    "#### Criando variáveis Dummies"
   ]
  },
  {
   "cell_type": "markdown",
   "id": "83498ad8",
   "metadata": {},
   "source": [
    "#### Selecionar somente variáveis com cardinalidade inferior a n (neste caso faremos n <= 10)"
   ]
  },
  {
   "cell_type": "code",
   "execution_count": null,
   "id": "b7236e1e",
   "metadata": {},
   "outputs": [],
   "source": [
    "# Filtrando Data Frame \n",
    "vars_to_dummif_df = metadados[(metadados.Level  == 'nominal') & (metadados.Role == 'input')& (metadados.Cardinality <= 10)]\n",
    "# Selecionando nomes das variáveis a partir do data frame filtrado\n",
    "vars_to_dummif_df"
   ]
  },
  {
   "cell_type": "code",
   "execution_count": null,
   "id": "a9f595ad",
   "metadata": {},
   "outputs": [],
   "source": [
    "# Selecionando nomes das variáveis a partir do data frame filtrado\n",
    "lista_vars_dummif = list(vars_to_dummif_df['Features'])\n",
    "lista_vars_dummif"
   ]
  },
  {
   "cell_type": "code",
   "execution_count": null,
   "id": "bf18a898",
   "metadata": {},
   "outputs": [],
   "source": [
    "df08 = df07[lista_vars_dummif]\n",
    "df08_t = df07_t[lista_vars_dummif]\n",
    "df08.head()"
   ]
  },
  {
   "cell_type": "code",
   "execution_count": null,
   "id": "258d1b36",
   "metadata": {},
   "outputs": [],
   "source": [
    "# gerando variáveis dummies\n",
    "df09 = pd.get_dummies(df08, \n",
    "                      columns=lista_vars_dummif,\n",
    "                      drop_first=True, \n",
    "                      prefix = lista_vars_dummif,\n",
    "                      prefix_sep='_')\n",
    "\n",
    "\n",
    "df09_t = pd.get_dummies(df08_t, \n",
    "                      columns=lista_vars_dummif,\n",
    "                      drop_first=True, \n",
    "                      prefix = lista_vars_dummif,\n",
    "                      prefix_sep='_')\n",
    "\n",
    "\n",
    "df09"
   ]
  },
  {
   "cell_type": "markdown",
   "id": "665168ec",
   "metadata": {},
   "source": [
    "#### Tratando as variáveis categóricas de alta cardinalidade"
   ]
  },
  {
   "cell_type": "code",
   "execution_count": null,
   "id": "50ec9736",
   "metadata": {},
   "outputs": [],
   "source": [
    "# Filtrando Data Frame (Retiramos a variável Name)\n",
    "vars_to_le_df = metadados[(metadados.Level  == 'nominal') & \n",
    "                          (metadados.Role == 'input') & \n",
    "                          (metadados.Cardinality > 10)]\n",
    "\n",
    "# Selecionando nomes das variáveis a partir do data frame filtrado\n",
    "vars_to_le_df"
   ]
  },
  {
   "cell_type": "code",
   "execution_count": null,
   "id": "5769c66d",
   "metadata": {},
   "outputs": [],
   "source": [
    "# Selecionando nomes das variáveis a partir do data frame filtrado\n",
    "lista_vars_le = list(vars_to_le_df['Features'])\n",
    "lista_vars_le"
   ]
  },
  {
   "cell_type": "code",
   "execution_count": null,
   "id": "470d01b3",
   "metadata": {},
   "outputs": [],
   "source": [
    "df10 = df07[lista_vars_le]\n",
    "df10_t = df07_t[lista_vars_le]\n",
    "df10"
   ]
  },
  {
   "cell_type": "code",
   "execution_count": null,
   "id": "1044d03b",
   "metadata": {},
   "outputs": [],
   "source": [
    "from sklearn import preprocessing\n",
    "\n",
    "le = preprocessing.LabelEncoder()\n",
    "\n",
    "\n",
    "le_tkt = le.fit_transform(df10['OCCUPATION_TYPE'])\n",
    "le_tkt_df = pd.DataFrame(le_tkt, columns=['LE_OCCUPATION_TYPE'])\n",
    "\n",
    "le_cbn = le.fit_transform(df10['ORGANIZATION_TYPE'])\n",
    "le_cbn_df = pd.DataFrame(le_cbn, columns=['LE_ORGANIZATION_TYPE'])\n",
    "\n",
    "df11 = pd.merge(le_cbn_df,le_tkt_df, left_index=True, right_index=True)\n",
    "\n",
    "le_tkt_t = le.fit_transform(df10_t['OCCUPATION_TYPE'])\n",
    "le_tkt_t_df = pd.DataFrame(le_tkt_t, columns=['LE_OCCUPATION_TYPE'])\n",
    "\n",
    "le_cbn_t = le.fit_transform(df10_t['ORGANIZATION_TYPE'])\n",
    "le_cbn_t_df = pd.DataFrame(le_cbn_t, columns=['LE_ORGANIZATION_TYPE'])\n",
    "\n",
    "df11_t = pd.merge(le_cbn_t_df,le_tkt_t_df, left_index=True, right_index=True)\n",
    "\n",
    "\n",
    "\n",
    "df11"
   ]
  },
  {
   "cell_type": "markdown",
   "id": "34879ba6",
   "metadata": {},
   "source": [
    "## Vamos juntar todas as tabelas tratadas\n",
    "\n",
    "df00 -- ABT de modelagem que contem o target\n",
    "\n",
    "df04 --> normalizada por distribuição\n",
    "\n",
    "df05 --> normal por amplitude\n",
    "\n",
    "df09 --> criação de dummies para nominais de baixa cardinalidade\n",
    "\n",
    "df11 --> label encoder (estabelecimento de ordem entre as categorias das nominais de alta cardinalidade)"
   ]
  },
  {
   "cell_type": "code",
   "execution_count": null,
   "id": "a1c00238",
   "metadata": {},
   "outputs": [],
   "source": [
    "#df4_9 = pd.merge(df04,df09, how= 'left', left_index=True, right_index=True)\n",
    "#df_ABT_expl = pd.merge(df4_9,df11, how='left', left_index=True, right_index=True)\n",
    "#df_ABT_expl['index'] = df_ABT_expl.index\n",
    "\n",
    "#ABT_df = pd.merge(df_ABT_expl,df00[['TARGET']], how= 'outer', left_index=True, right_index=True)\n",
    "\n",
    "#print(df4_9.shape)\n",
    "#print(df_ABT_expl.shape)\n",
    "\n",
    "#print(ABT_df.shape)"
   ]
  },
  {
   "cell_type": "code",
   "execution_count": null,
   "id": "758d1dee",
   "metadata": {},
   "outputs": [],
   "source": [
    "# Treino\n",
    "\n",
    "df04['index'] = df04.index\n",
    "df09['index'] = df04.index\n",
    "\n",
    "df4_9 = pd.merge(df04,df09, how = 'left', on = 'index')\n",
    "df_ABT_expl = pd.merge(df4_9,df11, left_index=True, right_index=True)\n",
    "df_ABT_expl['index'] = df_ABT_expl.index\n",
    "df00['index'] = df_ABT_expl.index\n",
    "\n",
    "var_df00 = ['TARGET', 'index']\n",
    "\n",
    "ABT_df = pd.merge(df_ABT_expl,df00[var_df00], how = 'left', on = 'index')\n",
    "\n",
    "\n",
    "print(df4_9.shape)\n",
    "print(df_ABT_expl.shape)\n",
    "\n",
    "print(ABT_df.shape)\n"
   ]
  },
  {
   "cell_type": "code",
   "execution_count": null,
   "id": "46cd0a2d",
   "metadata": {},
   "outputs": [],
   "source": [
    "ABT_df"
   ]
  },
  {
   "cell_type": "code",
   "execution_count": null,
   "id": "183c9b05",
   "metadata": {},
   "outputs": [],
   "source": [
    "# Teste\n",
    "\n",
    "df04_t['index'] = df04_t.index\n",
    "df09_t['index'] = df04_t.index\n",
    "\n",
    "df4_9_t = pd.merge(df04_t,df09_t, how = 'left', on = 'index')\n",
    "df_ABT_expl_t = pd.merge(df4_9_t,df11_t, left_index=True, right_index=True)\n",
    "df_ABT_expl_t['index'] = df_ABT_expl_t.index\n",
    "df00_unseen['index'] = df_ABT_expl_t.index\n",
    "\n",
    "var_df00_t = ['TARGET', 'index']\n",
    "\n",
    "ABT_df_t = pd.merge(df_ABT_expl_t,df00_unseen[var_df00_t], how = 'left', on = 'index')\n",
    "\n",
    "\n",
    "print(df04_t.shape)\n",
    "print(df_ABT_expl_t.shape)\n",
    "\n",
    "print(ABT_df_t.shape)"
   ]
  },
  {
   "cell_type": "code",
   "execution_count": null,
   "id": "af69c1b2",
   "metadata": {},
   "outputs": [],
   "source": [
    "ABT_df_t.isnull().sum()"
   ]
  },
  {
   "cell_type": "markdown",
   "id": "57714026",
   "metadata": {},
   "source": [
    "#### Salvando tabela tratada para ser utilizada em Machine Learning"
   ]
  },
  {
   "cell_type": "code",
   "execution_count": null,
   "id": "631c0ef1",
   "metadata": {},
   "outputs": [],
   "source": [
    "ABT_df.to_csv('ABT_credit_DataPrep_Train2.csv')"
   ]
  },
  {
   "cell_type": "code",
   "execution_count": null,
   "id": "50d61ac7",
   "metadata": {},
   "outputs": [],
   "source": [
    "ABT_df_t.to_csv('ABT_credit_DataPrep_Test.csv')"
   ]
  }
 ],
 "metadata": {
  "kernelspec": {
   "display_name": "Python 3 (ipykernel)",
   "language": "python",
   "name": "python3"
  },
  "language_info": {
   "codemirror_mode": {
    "name": "ipython",
    "version": 3
   },
   "file_extension": ".py",
   "mimetype": "text/x-python",
   "name": "python",
   "nbconvert_exporter": "python",
   "pygments_lexer": "ipython3",
   "version": "3.9.12"
  }
 },
 "nbformat": 4,
 "nbformat_minor": 5
}
